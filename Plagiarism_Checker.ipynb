{
 "cells": [
  {
   "cell_type": "code",
   "execution_count": 13,
   "id": "dca137e6-0a86-4a6d-a700-2c62823c8ce8",
   "metadata": {},
   "outputs": [
    {
     "name": "stdout",
     "output_type": "stream",
     "text": [
      " the Plagarized content is 43.18181818181818% \n"
     ]
    }
   ],
   "source": [
    "from difflib import SequenceMatcher\n",
    "\n",
    "with open('demo1.txt') as file_1 , open('demo2.txt') as file_2 :\n",
    "    data_file1 = file_1.read()\n",
    "    data_file2 = file_2.read()\n",
    "    \n",
    "    matches = SequenceMatcher(None , data_file1 , data_file2).ratio()\n",
    "    print(f\" the Plagarized content is {matches * 100}% \")"
   ]
  }
 ],
 "metadata": {
  "kernelspec": {
   "display_name": "Python [conda env:base] *",
   "language": "python",
   "name": "conda-base-py"
  },
  "language_info": {
   "codemirror_mode": {
    "name": "ipython",
    "version": 3
   },
   "file_extension": ".py",
   "mimetype": "text/x-python",
   "name": "python",
   "nbconvert_exporter": "python",
   "pygments_lexer": "ipython3",
   "version": "3.12.7"
  }
 },
 "nbformat": 4,
 "nbformat_minor": 5
}
